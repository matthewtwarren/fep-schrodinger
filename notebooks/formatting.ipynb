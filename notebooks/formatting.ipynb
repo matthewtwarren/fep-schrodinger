{
 "cells": [
  {
   "attachments": {},
   "cell_type": "markdown",
   "metadata": {},
   "source": [
    "## Schrodinger FEP+ dataset formatting\n",
    "\n",
    "### Inputs\n",
    "- ```.pdb``` file containing protein structures\n",
    "\n",
    "- ```.sdf``` file containing ligand names, coordinates and DeltaG values\n",
    "\n",
    "\n",
    "### Output\n",
    "\n",
    "- ```.pdb``` file for each ligand\n",
    "\n",
    "- Train, validation and test data files for aescore with the following format:\n",
    "\n",
    "        DeltaG path/to/protein.pdb path/to/ligand.pdb\n",
    "\n",
    "\n"
   ]
  },
  {
   "cell_type": "code",
   "execution_count": 1,
   "metadata": {},
   "outputs": [],
   "source": [
    "import rdkit\n",
    "from rdkit import Chem\n",
    "import os\n",
    "import pickle\n",
    "import pandas as pd\n",
    "import numpy as np"
   ]
  },
  {
   "cell_type": "code",
   "execution_count": 2,
   "metadata": {},
   "outputs": [],
   "source": [
    "def getDirNames(path):\n",
    "    return [name for name in os.listdir(path) if os.path.isdir(os.path.join(path, name))]"
   ]
  },
  {
   "cell_type": "code",
   "execution_count": 3,
   "metadata": {},
   "outputs": [],
   "source": [
    "def getLigandDataFromSDF(sdf_file, id_prop, dG_prop, removeHs=False):\n",
    "    \"\"\"\n",
    "    Read in a SDF file and return a nested dictionary of ligand data.\n",
    "\n",
    "    Parameters\n",
    "    ----------\n",
    "    sdf_file : str \n",
    "        Path to SDF file.\n",
    "    id_prop : str\n",
    "        Name of property in SDF file that contains the ligand ID.\n",
    "    dG_prop : str\n",
    "        Name of property in SDF file that contains the ligand binding free energy.\n",
    "    removeHs : bool, optional\n",
    "        Remove hydrogens from the ligand molecules. Default is False.\n",
    "    \"\"\"\n",
    "\n",
    "    suppl = Chem.SDMolSupplier(sdf_file,removeHs=removeHs)\n",
    "    lig_objs = [m for m in suppl if m is not None]\n",
    "    lig_ids = [m.GetProp(id_prop) for m in lig_objs]\n",
    "    lig_bfe = [float(m.GetProp(dG_prop)) for m in lig_objs]\n",
    "\n",
    "    index_dict = {lig_id: index for index, lig_id in enumerate(lig_ids)}\n",
    "    lig_data = {lig_id: {'dG': lig_bfe[index_dict[lig_id]], 'rdmol': lig_objs[index_dict[lig_id]]} for lig_id in lig_ids}\n",
    "\n",
    "    return lig_data"
   ]
  },
  {
   "cell_type": "code",
   "execution_count": 4,
   "metadata": {},
   "outputs": [],
   "source": [
    "def molToPDB(lig_data, target_name, outdir):\n",
    "    \"\"\"\n",
    "    Write out a PDB file for each molecule in a dictionary of molecule data. \n",
    "    \"\"\"\n",
    "    saved = total = 0\n",
    "\n",
    "    for lig_id in lig_data.keys():\n",
    "        mol = lig_data[lig_id]['rdmol']\n",
    "        try:\n",
    "            Chem.MolToPDBFile(mol, '{}/{}_ligand_{}.pdb'.format(outdir, target_name, lig_id))\n",
    "            saved += 1\n",
    "        except:\n",
    "            print('Error writing {} to PDB file'.format(lig_id))\n",
    "        \n",
    "        total += 1\n",
    "    \n",
    "    print('{} out of {} {} ligands saved to {}'.format(saved, total, target_name, outdir))\n",
    "        "
   ]
  },
  {
   "cell_type": "code",
   "execution_count": 11,
   "metadata": {
    "tags": []
   },
   "outputs": [
    {
     "name": "stdout",
     "output_type": "stream",
     "text": [
      "21 out of 21 Jnk1 ligands saved to ../data/Jnk1\n",
      "36 out of 36 Bace ligands saved to ../data/Bace\n",
      "34 out of 34 p38 ligands saved to ../data/p38\n",
      "23 out of 23 PTP1B ligands saved to ../data/PTP1B\n",
      "42 out of 42 MCL1 ligands saved to ../data/MCL1\n",
      "16 out of 16 Tyk2 ligands saved to ../data/Tyk2\n",
      "11 out of 11 Thrombin ligands saved to ../data/Thrombin\n",
      "16 out of 16 CDK2 ligands saved to ../data/CDK2\n"
     ]
    }
   ],
   "source": [
    "targets = getDirNames('../data')\n",
    "mol_data_dict = {target: getLigandDataFromSDF('../data/{}/{}_ligands.sdf'.format(target,target), '_Name', 'r_user_dG.exp') for target in targets}\n",
    "\n",
    "for target in mol_data_dict:\n",
    "    molToPDB(mol_data_dict[target], target, '../data/{}'.format(target))\n",
    "\n",
    "pickle.dump(mol_data_dict, open('../data/all_ligands_mol_dict.pkl', 'wb'))"
   ]
  },
  {
   "cell_type": "code",
   "execution_count": 14,
   "metadata": {},
   "outputs": [],
   "source": [
    "mol_dict = pickle.load(open('../data/all_ligands_mol_dict.pkl', 'rb'))\n",
    "\n",
    "loc_dict = dict()\n",
    "\n",
    "for target in mol_dict.keys():\n",
    "    \n",
    "    target_loc = '../data/{}/{}_protein.pdb'.format(target, target)\n",
    "    for ligand in mol_dict[target]:\n",
    "\n",
    "        dg = mol_dict[target][ligand]['dG']\n",
    "        ligand_loc = '../data/{}/{}_ligand_{}.pdb'.format(target, target, ligand)\n",
    "        entry = {'target':target, 'target_loc':target_loc, 'ligand':ligand, 'ligand_loc':ligand_loc, 'dG':dg}\n",
    "        loc_dict['{}_{}'.format(target,ligand)] = entry\n",
    "\n",
    "loc_df = pd.DataFrame.from_dict(data=loc_dict, orient='index')\n",
    "pickle.dump(loc_df, open('../data/all_ligands_loc_df.pkl', 'wb'))\n"
   ]
  },
  {
   "cell_type": "code",
   "execution_count": 10,
   "metadata": {},
   "outputs": [],
   "source": [
    "def stratifiedSample(df, col, n_samples):\n",
    "    \"\"\"\n",
    "    Draw a sample from a dataframe, such that the sample is stratified based on the frequency of values in a column.\n",
    "    \"\"\"\n",
    "    \n",
    "    return df.groupby(col, group_keys=False).apply(lambda x: x.sample(int(np.rint(n_samples*len(x)/len(df))))).sample(frac=1)\n"
   ]
  },
  {
   "cell_type": "code",
   "execution_count": 11,
   "metadata": {},
   "outputs": [],
   "source": [
    "loc_df = pickle.load(open('../data/all_ligands_loc_df.pkl', 'rb'))\n",
    "loc_df = loc_df.round({'dG': 2})\n",
    "\n",
    "val_set = stratifiedSample(loc_df, 'target', 20)\n",
    "test_set = stratifiedSample(loc_df[~loc_df.index.isin(val_set.index)], 'target', 20)\n",
    "train_set = loc_df[~loc_df.index.isin(val_set.index) & ~loc_df.index.isin(test_set.index)]"
   ]
  },
  {
   "cell_type": "code",
   "execution_count": 12,
   "metadata": {},
   "outputs": [
    {
     "name": "stdout",
     "output_type": "stream",
     "text": [
      "False 0\n"
     ]
    }
   ],
   "source": [
    "overlap = [i for i in train_set.index if i in val_set.index or i in test_set.index]\n",
    "print(bool(overlap), len(overlap))"
   ]
  },
  {
   "cell_type": "code",
   "execution_count": 13,
   "metadata": {},
   "outputs": [],
   "source": [
    "val_set[['dG','target_loc','ligand_loc']].to_csv('../data/valid.dat', header=False, index=False, sep=' ')\n",
    "test_set[['dG','target_loc','ligand_loc']].to_csv('../data/test.dat', header=False, index=False, sep=' ')\n",
    "train_set[['dG','target_loc','ligand_loc']].to_csv('../data/train.dat', header=False, index=False, sep=' ')"
   ]
  },
  {
   "cell_type": "code",
   "execution_count": null,
   "metadata": {},
   "outputs": [],
   "source": []
  }
 ],
 "metadata": {
  "kernelspec": {
   "display_name": "aescore",
   "language": "python",
   "name": "python3"
  },
  "language_info": {
   "codemirror_mode": {
    "name": "ipython",
    "version": 3
   },
   "file_extension": ".py",
   "mimetype": "text/x-python",
   "name": "python",
   "nbconvert_exporter": "python",
   "pygments_lexer": "ipython3",
   "version": "3.11.3"
  },
  "orig_nbformat": 4
 },
 "nbformat": 4,
 "nbformat_minor": 2
}
